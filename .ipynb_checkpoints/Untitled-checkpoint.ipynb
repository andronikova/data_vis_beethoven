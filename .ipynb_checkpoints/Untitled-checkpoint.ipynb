{
 "cells": [
  {
   "cell_type": "markdown",
   "metadata": {},
   "source": [
    "# List of works by Ludwig van Beethoven\n",
    "source:https://imslp.org/wiki/List_of_works_by_Ludwig_van_Beethoven\n",
    "\n",
    "***Op.*** — opus numbers; these were assigned by his publishers, and follow the order in which his works were published, rather than the order they were written. This is why, for example, the Wind Octet of 1792 can be Opus 103, when Opus 102 and Opus 104 were written in 1815 and 1817 respectively. Everything up to and including Opus 135 was published in Beethoven's lifetime; later numbers were published posthumously.\n",
    "\n",
    "***WoO*** (Werke ohne Opuszahl — literally, \"works without opus number\") number. These were assigned by Georg Kinsky and Hans Halm (who took over from Kinsky after his death) in their 1955 catalogue of Beethoven's works. \"Anh.\" numbers refer to works listed in the appendix (German: Anhang, hence the abbreviation) of Kinsky's catalogue as being probably spurious. Some of these have since been shown to be authored by Beethoven.\n",
    "\n",
    "***Hess number.*** These were assigned by Willy Hess in a listing published shortly after Kinsky's which includes pieces not included in the 19th century Beethoven Gesamtausgabe published by Breitkopf und Härtel. Hess includes many more fragmentary works than does Kinsky. Many pieces have both WoO and H numbers - in these cases, WoO numbers are generally favoured over Hess numbers. Hess's catalogue also includes an appendix (\"Anh\".)\n",
    "\n",
    "***Biamonti*** — numbering in the catalogue compiled by Giovanni Biamonti, in Catalogo cronologico e tematico di tutte le opere di Beethoven, comprese quelle inedite e gli abbozzi non utilizzati (Turin, 1968). This combines the pieces with opus numbers and all the works from Kinsky's and Hess' catalogue with hitherto uncatalogued fragments to make a single chronological listing. Biamonti numbers are not very often referred to, however.\n",
    "\n",
    "***Title*** — as used on IMSLP\n",
    "\n",
    "***Key*** — the principal key of the work\n",
    "\n",
    "***Date*** — the year(s) of composition or arrangement, where known\n",
    "\n",
    "***Scoring*** — the instrumentation used (see IMSLP:Abbreviations for Instruments)\n",
    "\n",
    "***Genre*** — works are grouped in the following broad categories: Stage, Vocal, Orchestral, Chamber and Keyboa(rd\n",
    "\n",
    "***Notes*** — including comments about arrangements and different versions of works"
   ]
  },
  {
   "cell_type": "code",
   "execution_count": 8,
   "metadata": {},
   "outputs": [],
   "source": [
    "import pandas as pd\n",
    "import numpy as np\n",
    "import matplotlib.pyplot as plt\n",
    "import seaborn as sns"
   ]
  },
  {
   "cell_type": "code",
   "execution_count": 4,
   "metadata": {},
   "outputs": [],
   "source": [
    "df = pd.read_csv('compositions.csv')"
   ]
  },
  {
   "cell_type": "code",
   "execution_count": 6,
   "metadata": {},
   "outputs": [
    {
     "name": "stdout",
     "output_type": "stream",
     "text": [
      "<class 'pandas.core.frame.DataFrame'>\n",
      "RangeIndex: 708 entries, 0 to 707\n",
      "Data columns (total 10 columns):\n",
      " #   Column     Non-Null Count  Dtype \n",
      "---  ------     --------------  ----- \n",
      " 0   Op.        417 non-null    object\n",
      " 1    WoO       708 non-null    object\n",
      " 2    Hess      708 non-null    object\n",
      " 3    Biamonti  708 non-null    object\n",
      " 4    Title     708 non-null    object\n",
      " 5    Key       558 non-null    object\n",
      " 6    Date      408 non-null    object\n",
      " 7    Scoring   408 non-null    object\n",
      " 8    Genre     408 non-null    object\n",
      " 9    Comments  408 non-null    object\n",
      "dtypes: object(10)\n",
      "memory usage: 55.4+ KB\n"
     ]
    }
   ],
   "source": [
    "df.info()"
   ]
  },
  {
   "cell_type": "code",
   "execution_count": 7,
   "metadata": {},
   "outputs": [
    {
     "data": {
      "text/html": [
       "<div>\n",
       "<style scoped>\n",
       "    .dataframe tbody tr th:only-of-type {\n",
       "        vertical-align: middle;\n",
       "    }\n",
       "\n",
       "    .dataframe tbody tr th {\n",
       "        vertical-align: top;\n",
       "    }\n",
       "\n",
       "    .dataframe thead th {\n",
       "        text-align: right;\n",
       "    }\n",
       "</style>\n",
       "<table border=\"1\" class=\"dataframe\">\n",
       "  <thead>\n",
       "    <tr style=\"text-align: right;\">\n",
       "      <th></th>\n",
       "      <th>Op.</th>\n",
       "      <th>WoO</th>\n",
       "      <th>Hess</th>\n",
       "      <th>Biamonti</th>\n",
       "      <th>Title</th>\n",
       "      <th>Key</th>\n",
       "      <th>Date</th>\n",
       "      <th>Scoring</th>\n",
       "      <th>Genre</th>\n",
       "      <th>Comments</th>\n",
       "    </tr>\n",
       "  </thead>\n",
       "  <tbody>\n",
       "    <tr>\n",
       "      <th>0</th>\n",
       "      <td>001</td>\n",
       "      <td>NaN</td>\n",
       "      <td>NaN</td>\n",
       "      <td>062</td>\n",
       "      <td>Piano Trios (3):</td>\n",
       "      <td>NaN</td>\n",
       "      <td>1792-94</td>\n",
       "      <td>vn vc pf</td>\n",
       "      <td>Chamber</td>\n",
       "      <td>NaN</td>\n",
       "    </tr>\n",
       "    <tr>\n",
       "      <th>1</th>\n",
       "      <td>001/1</td>\n",
       "      <td>NaN</td>\n",
       "      <td>NaN</td>\n",
       "      <td>062/1</td>\n",
       "      <td></td>\n",
       "      <td>NaN</td>\n",
       "      <td>NaN</td>\n",
       "      <td>NaN</td>\n",
       "      <td>NaN</td>\n",
       "      <td>NaN</td>\n",
       "    </tr>\n",
       "    <tr>\n",
       "      <th>2</th>\n",
       "      <td>Piano Trio</td>\n",
       "      <td>E♭ major</td>\n",
       "      <td>1792-93</td>\n",
       "      <td>vn vc pf</td>\n",
       "      <td>Chamber</td>\n",
       "      <td>NaN</td>\n",
       "      <td>NaN</td>\n",
       "      <td>NaN</td>\n",
       "      <td>NaN</td>\n",
       "      <td>NaN</td>\n",
       "    </tr>\n",
       "    <tr>\n",
       "      <th>3</th>\n",
       "      <td>001/2</td>\n",
       "      <td>NaN</td>\n",
       "      <td>NaN</td>\n",
       "      <td>062/2</td>\n",
       "      <td></td>\n",
       "      <td>NaN</td>\n",
       "      <td>NaN</td>\n",
       "      <td>NaN</td>\n",
       "      <td>NaN</td>\n",
       "      <td>NaN</td>\n",
       "    </tr>\n",
       "    <tr>\n",
       "      <th>4</th>\n",
       "      <td>Piano Trio</td>\n",
       "      <td>G major</td>\n",
       "      <td>1792-94</td>\n",
       "      <td>vn vc pf</td>\n",
       "      <td>Chamber</td>\n",
       "      <td>NaN</td>\n",
       "      <td>NaN</td>\n",
       "      <td>NaN</td>\n",
       "      <td>NaN</td>\n",
       "      <td>NaN</td>\n",
       "    </tr>\n",
       "  </tbody>\n",
       "</table>\n",
       "</div>"
      ],
      "text/plain": [
       "           Op.         WoO       Hess    Biamonti               Title   Key  \\\n",
       "0          001         NaN        NaN         062    Piano Trios (3):   NaN   \n",
       "1        001/1         NaN        NaN       062/1                       NaN   \n",
       "2   Piano Trio    E♭ major    1792-93    vn vc pf             Chamber   NaN   \n",
       "3        001/2         NaN        NaN       062/2                       NaN   \n",
       "4   Piano Trio     G major    1792-94    vn vc pf             Chamber   NaN   \n",
       "\n",
       "        Date     Scoring      Genre  Comments  \n",
       "0    1792-94    vn vc pf    Chamber       NaN  \n",
       "1        NaN         NaN        NaN       NaN  \n",
       "2        NaN         NaN        NaN       NaN  \n",
       "3        NaN         NaN        NaN       NaN  \n",
       "4        NaN         NaN        NaN       NaN  "
      ]
     },
     "execution_count": 7,
     "metadata": {},
     "output_type": "execute_result"
    }
   ],
   "source": [
    "df.head()"
   ]
  },
  {
   "cell_type": "markdown",
   "metadata": {},
   "source": [
    "### Delete common name for several pieces"
   ]
  },
  {
   "cell_type": "markdown",
   "metadata": {},
   "source": [
    "### Create one name with all notations\n",
    "Op.1 No.1"
   ]
  },
  {
   "cell_type": "code",
   "execution_count": null,
   "metadata": {},
   "outputs": [],
   "source": []
  }
 ],
 "metadata": {
  "kernelspec": {
   "display_name": "Python 3",
   "language": "python",
   "name": "python3"
  },
  "language_info": {
   "codemirror_mode": {
    "name": "ipython",
    "version": 3
   },
   "file_extension": ".py",
   "mimetype": "text/x-python",
   "name": "python",
   "nbconvert_exporter": "python",
   "pygments_lexer": "ipython3",
   "version": "3.8.5"
  }
 },
 "nbformat": 4,
 "nbformat_minor": 4
}
